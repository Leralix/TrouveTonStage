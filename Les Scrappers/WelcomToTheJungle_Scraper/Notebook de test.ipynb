{
 "cells": [
  {
   "cell_type": "code",
   "execution_count": 1,
   "id": "25f760b6",
   "metadata": {},
   "outputs": [],
   "source": [
    "import pandas as pd"
   ]
  },
  {
   "cell_type": "code",
   "execution_count": 3,
   "id": "9c6de3a2",
   "metadata": {},
   "outputs": [],
   "source": [
    "df = pd.read_csv(\"DatabaseFInaleWTTJ.csv\")"
   ]
  },
  {
   "cell_type": "code",
   "execution_count": 6,
   "id": "87aca2f9",
   "metadata": {},
   "outputs": [
    {
     "data": {
      "text/plain": [
       "(1151, 10)"
      ]
     },
     "execution_count": 6,
     "metadata": {},
     "output_type": "execute_result"
    }
   ],
   "source": [
    "df.shape"
   ]
  },
  {
   "cell_type": "code",
   "execution_count": 8,
   "id": "59b495ab",
   "metadata": {},
   "outputs": [
    {
     "data": {
      "text/html": [
       "<div>\n",
       "<style scoped>\n",
       "    .dataframe tbody tr th:only-of-type {\n",
       "        vertical-align: middle;\n",
       "    }\n",
       "\n",
       "    .dataframe tbody tr th {\n",
       "        vertical-align: top;\n",
       "    }\n",
       "\n",
       "    .dataframe thead th {\n",
       "        text-align: right;\n",
       "    }\n",
       "</style>\n",
       "<table border=\"1\" class=\"dataframe\">\n",
       "  <thead>\n",
       "    <tr style=\"text-align: right;\">\n",
       "      <th></th>\n",
       "      <th>Unnamed: 0</th>\n",
       "      <th>Titre</th>\n",
       "      <th>Type de contrat</th>\n",
       "      <th>Bac</th>\n",
       "      <th>Durée</th>\n",
       "      <th>Début</th>\n",
       "      <th>Nom entreprise</th>\n",
       "      <th>Localisation</th>\n",
       "      <th>Description</th>\n",
       "      <th>url</th>\n",
       "    </tr>\n",
       "  </thead>\n",
       "  <tbody>\n",
       "    <tr>\n",
       "      <th>0</th>\n",
       "      <td>0</td>\n",
       "      <td>Business and modeling analyst</td>\n",
       "      <td>Stage</td>\n",
       "      <td>Bac +5 / Master</td>\n",
       "      <td>6 mois</td>\n",
       "      <td>1 mars 2023</td>\n",
       "      <td>Early Metrics</td>\n",
       "      <td>86, Rue Notre-Dame de Nazareth, Paris, 75003</td>\n",
       "      <td>Who are they?\\nEarly Metrics is the first rati...</td>\n",
       "      <td>https://www.welcometothejungle.com/fr/companie...</td>\n",
       "    </tr>\n",
       "    <tr>\n",
       "      <th>1</th>\n",
       "      <td>0</td>\n",
       "      <td>Stage 6 mois - Analyste en stratégie H/F</td>\n",
       "      <td>Stage</td>\n",
       "      <td>Bac +5 / Master</td>\n",
       "      <td>5 à 6 mois</td>\n",
       "      <td>NaN</td>\n",
       "      <td>Keolis</td>\n",
       "      <td>Paris, 75009</td>\n",
       "      <td>Qui sont-ils ?\\n[[Business Analyste en stratég...</td>\n",
       "      <td>https://www.welcometothejungle.com/fr/companie...</td>\n",
       "    </tr>\n",
       "    <tr>\n",
       "      <th>2</th>\n",
       "      <td>0</td>\n",
       "      <td>Internship SDR Hospitality UK - F/M</td>\n",
       "      <td>Stage</td>\n",
       "      <td>Non spécifié</td>\n",
       "      <td>6 mois</td>\n",
       "      <td>NaN</td>\n",
       "      <td>BRIGAD</td>\n",
       "      <td>34 rue du sentier, Paris, 75002</td>\n",
       "      <td>Who are they?\\nAt the heart of Brigad, there i...</td>\n",
       "      <td>https://www.welcometothejungle.com/fr/companie...</td>\n",
       "    </tr>\n",
       "    <tr>\n",
       "      <th>3</th>\n",
       "      <td>0</td>\n",
       "      <td>Bras droit CEO / Chief of Staff intern</td>\n",
       "      <td>Stage</td>\n",
       "      <td>Non spécifié</td>\n",
       "      <td>6 mois</td>\n",
       "      <td>NaN</td>\n",
       "      <td>BRIGAD</td>\n",
       "      <td>34 rue du sentier, Paris, 75002</td>\n",
       "      <td>Who are they?\\nAt the heart of Brigad, there i...</td>\n",
       "      <td>https://www.welcometothejungle.com/fr/companie...</td>\n",
       "    </tr>\n",
       "    <tr>\n",
       "      <th>4</th>\n",
       "      <td>0</td>\n",
       "      <td>Data Engineer - Internship</td>\n",
       "      <td>Stage</td>\n",
       "      <td>Non spécifié</td>\n",
       "      <td>6 mois</td>\n",
       "      <td>NaN</td>\n",
       "      <td>BRIGAD</td>\n",
       "      <td>34 rue du sentier, Paris, 75002</td>\n",
       "      <td>Who are they?\\nAt the heart of Brigad, there i...</td>\n",
       "      <td>https://www.welcometothejungle.com/fr/companie...</td>\n",
       "    </tr>\n",
       "  </tbody>\n",
       "</table>\n",
       "</div>"
      ],
      "text/plain": [
       "   Unnamed: 0                                     Titre Type de contrat  \\\n",
       "0           0             Business and modeling analyst           Stage   \n",
       "1           0  Stage 6 mois - Analyste en stratégie H/F           Stage   \n",
       "2           0       Internship SDR Hospitality UK - F/M           Stage   \n",
       "3           0    Bras droit CEO / Chief of Staff intern           Stage   \n",
       "4           0                Data Engineer - Internship           Stage   \n",
       "\n",
       "               Bac       Durée        Début Nom entreprise  \\\n",
       "0  Bac +5 / Master      6 mois  1 mars 2023  Early Metrics   \n",
       "1  Bac +5 / Master  5 à 6 mois          NaN         Keolis   \n",
       "2     Non spécifié      6 mois          NaN         BRIGAD   \n",
       "3     Non spécifié      6 mois          NaN         BRIGAD   \n",
       "4     Non spécifié      6 mois          NaN         BRIGAD   \n",
       "\n",
       "                                   Localisation  \\\n",
       "0  86, Rue Notre-Dame de Nazareth, Paris, 75003   \n",
       "1                                  Paris, 75009   \n",
       "2               34 rue du sentier, Paris, 75002   \n",
       "3               34 rue du sentier, Paris, 75002   \n",
       "4               34 rue du sentier, Paris, 75002   \n",
       "\n",
       "                                         Description  \\\n",
       "0  Who are they?\\nEarly Metrics is the first rati...   \n",
       "1  Qui sont-ils ?\\n[[Business Analyste en stratég...   \n",
       "2  Who are they?\\nAt the heart of Brigad, there i...   \n",
       "3  Who are they?\\nAt the heart of Brigad, there i...   \n",
       "4  Who are they?\\nAt the heart of Brigad, there i...   \n",
       "\n",
       "                                                 url  \n",
       "0  https://www.welcometothejungle.com/fr/companie...  \n",
       "1  https://www.welcometothejungle.com/fr/companie...  \n",
       "2  https://www.welcometothejungle.com/fr/companie...  \n",
       "3  https://www.welcometothejungle.com/fr/companie...  \n",
       "4  https://www.welcometothejungle.com/fr/companie...  "
      ]
     },
     "execution_count": 8,
     "metadata": {},
     "output_type": "execute_result"
    }
   ],
   "source": [
    "df.head()"
   ]
  },
  {
   "cell_type": "code",
   "execution_count": null,
   "id": "095cb954",
   "metadata": {},
   "outputs": [],
   "source": []
  }
 ],
 "metadata": {
  "kernelspec": {
   "display_name": "Python 3 (ipykernel)",
   "language": "python",
   "name": "python3"
  },
  "language_info": {
   "codemirror_mode": {
    "name": "ipython",
    "version": 3
   },
   "file_extension": ".py",
   "mimetype": "text/x-python",
   "name": "python",
   "nbconvert_exporter": "python",
   "pygments_lexer": "ipython3",
   "version": "3.9.13"
  }
 },
 "nbformat": 4,
 "nbformat_minor": 5
}
